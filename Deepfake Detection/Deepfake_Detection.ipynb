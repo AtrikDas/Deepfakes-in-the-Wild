{
  "nbformat": 4,
  "nbformat_minor": 0,
  "metadata": {
    "colab": {
      "name": "Deepfake_Detection.ipynb",
      "provenance": []
    },
    "kernelspec": {
      "name": "python3",
      "display_name": "Python 3"
    },
    "language_info": {
      "name": "python"
    },
    "accelerator": "GPU"
  },
  "cells": [
    {
      "cell_type": "code",
      "metadata": {
        "colab": {
          "base_uri": "https://localhost:8080/"
        },
        "id": "IYFs7e5GMQMi",
        "outputId": "dc917a08-f41b-4fe7-a164-b2942f7c6f1c"
      },
      "source": [
        "!git clone https://github.com/PeterWang512/CNNDetection.git"
      ],
      "execution_count": null,
      "outputs": [
        {
          "output_type": "stream",
          "name": "stdout",
          "text": [
            "Cloning into 'CNNDetection'...\n",
            "remote: Enumerating objects: 626, done.\u001b[K\n",
            "remote: Total 626 (delta 0), reused 0 (delta 0), pack-reused 626\u001b[K\n",
            "Receiving objects: 100% (626/626), 6.36 MiB | 18.77 MiB/s, done.\n",
            "Resolving deltas: 100% (94/94), done.\n"
          ]
        }
      ]
    },
    {
      "cell_type": "code",
      "metadata": {
        "colab": {
          "base_uri": "https://localhost:8080/"
        },
        "id": "j-A35A1AMtI1",
        "outputId": "6844cdc5-a09d-4ff4-a930-9613811d5544"
      },
      "source": [
        "cd CNNDetection/"
      ],
      "execution_count": null,
      "outputs": [
        {
          "output_type": "stream",
          "name": "stdout",
          "text": [
            "/content/CNNDetection\n"
          ]
        }
      ]
    },
    {
      "cell_type": "code",
      "metadata": {
        "colab": {
          "base_uri": "https://localhost:8080/"
        },
        "id": "1UfzL8szMlfM",
        "outputId": "b369e323-3d47-4868-c476-0706703927d3"
      },
      "source": [
        "!pip install -r requirements.txt"
      ],
      "execution_count": null,
      "outputs": [
        {
          "output_type": "stream",
          "name": "stdout",
          "text": [
            "Requirement already satisfied: scipy in /usr/local/lib/python3.7/dist-packages (from -r requirements.txt (line 1)) (1.4.1)\n",
            "Requirement already satisfied: scikit-learn in /usr/local/lib/python3.7/dist-packages (from -r requirements.txt (line 2)) (0.22.2.post1)\n",
            "Requirement already satisfied: numpy in /usr/local/lib/python3.7/dist-packages (from -r requirements.txt (line 3)) (1.19.5)\n",
            "Requirement already satisfied: opencv_python in /usr/local/lib/python3.7/dist-packages (from -r requirements.txt (line 4)) (4.1.2.30)\n",
            "Requirement already satisfied: Pillow in /usr/local/lib/python3.7/dist-packages (from -r requirements.txt (line 5)) (7.1.2)\n",
            "Requirement already satisfied: torch>=1.2.0 in /usr/local/lib/python3.7/dist-packages (from -r requirements.txt (line 6)) (1.9.0+cu111)\n",
            "Requirement already satisfied: torchvision in /usr/local/lib/python3.7/dist-packages (from -r requirements.txt (line 7)) (0.10.0+cu111)\n",
            "Requirement already satisfied: typing-extensions in /usr/local/lib/python3.7/dist-packages (from torch>=1.2.0->-r requirements.txt (line 6)) (3.7.4.3)\n",
            "Requirement already satisfied: joblib>=0.11 in /usr/local/lib/python3.7/dist-packages (from scikit-learn->-r requirements.txt (line 2)) (1.0.1)\n"
          ]
        }
      ]
    },
    {
      "cell_type": "code",
      "metadata": {
        "colab": {
          "base_uri": "https://localhost:8080/"
        },
        "id": "fkBzdl2yMsp-",
        "outputId": "ce7c9bb2-9607-40e5-cbcf-32e850128808"
      },
      "source": [
        "!bash weights/download_weights.sh"
      ],
      "execution_count": null,
      "outputs": [
        {
          "output_type": "stream",
          "name": "stdout",
          "text": [
            "--2021-10-12 06:51:05--  https://www.dropbox.com/s/2g2jagq2jn1fd0i/blur_jpg_prob0.5.pth?dl=0\n",
            "Resolving www.dropbox.com (www.dropbox.com)... 162.125.3.18, 2620:100:6018:18::a27d:312\n",
            "Connecting to www.dropbox.com (www.dropbox.com)|162.125.3.18|:443... connected.\n",
            "HTTP request sent, awaiting response... 301 Moved Permanently\n",
            "Location: /s/raw/2g2jagq2jn1fd0i/blur_jpg_prob0.5.pth [following]\n",
            "--2021-10-12 06:51:05--  https://www.dropbox.com/s/raw/2g2jagq2jn1fd0i/blur_jpg_prob0.5.pth\n",
            "Reusing existing connection to www.dropbox.com:443.\n",
            "HTTP request sent, awaiting response... 302 Found\n",
            "Location: https://ucb75c07d43635cde1e0790d17ef.dl.dropboxusercontent.com/cd/0/inline/BX6Lb37-_t3z2HJjEbbTOjJ_PsVPgCzi7gDvzWdwtdxlvar8GjJwuDIEzuFNgYUz3fhc2306GMHGfdwrn4mVi-5qc7oIIzbgk-L7f-4VqSA1LERE2Ogp6yMd2rEs7MizSpERbgNaSgizfXWJbdO7gUn8/file# [following]\n",
            "--2021-10-12 06:51:05--  https://ucb75c07d43635cde1e0790d17ef.dl.dropboxusercontent.com/cd/0/inline/BX6Lb37-_t3z2HJjEbbTOjJ_PsVPgCzi7gDvzWdwtdxlvar8GjJwuDIEzuFNgYUz3fhc2306GMHGfdwrn4mVi-5qc7oIIzbgk-L7f-4VqSA1LERE2Ogp6yMd2rEs7MizSpERbgNaSgizfXWJbdO7gUn8/file\n",
            "Resolving ucb75c07d43635cde1e0790d17ef.dl.dropboxusercontent.com (ucb75c07d43635cde1e0790d17ef.dl.dropboxusercontent.com)... 162.125.80.15, 2620:100:6018:15::a27d:30f\n",
            "Connecting to ucb75c07d43635cde1e0790d17ef.dl.dropboxusercontent.com (ucb75c07d43635cde1e0790d17ef.dl.dropboxusercontent.com)|162.125.80.15|:443... connected.\n",
            "HTTP request sent, awaiting response... 302 Found\n",
            "Location: /cd/0/inline2/BX5uKqbEzkCRdscynTLTfhdejD0qSVyyDXqyKdWXkUskgEx4wuQCCgXy1aQs4x2nVQHuWjSPu-9UA2lsAAZGemZVq9ZArNA3fFxLL7p9hHno32HBdLaKzLS6cr1H9FNN_BfMRXV9cC-HFFr9jJYT44teH4XWyOa1Kt9g6mbL2Hqs6xHnk1FIo-F-Rr4Vi_bf1ApzzcXxVLS35kIM5lf6JnpSBH6xz8F2mYQosbPa4QFrvFIOrYgEAs211TEJwsAZeZOThvzpVie_gtMADUnrUMBKxx56sKcXyycNJCDLSRg2HreBodjru09RLXcdIwRFaAI2nxVBkiE1E5tc0QQumw56KBpLGiZ3PwDGcrYZ6pjSCEuEonB2A1Qm1Im4jYW_lBo/file [following]\n",
            "--2021-10-12 06:51:07--  https://ucb75c07d43635cde1e0790d17ef.dl.dropboxusercontent.com/cd/0/inline2/BX5uKqbEzkCRdscynTLTfhdejD0qSVyyDXqyKdWXkUskgEx4wuQCCgXy1aQs4x2nVQHuWjSPu-9UA2lsAAZGemZVq9ZArNA3fFxLL7p9hHno32HBdLaKzLS6cr1H9FNN_BfMRXV9cC-HFFr9jJYT44teH4XWyOa1Kt9g6mbL2Hqs6xHnk1FIo-F-Rr4Vi_bf1ApzzcXxVLS35kIM5lf6JnpSBH6xz8F2mYQosbPa4QFrvFIOrYgEAs211TEJwsAZeZOThvzpVie_gtMADUnrUMBKxx56sKcXyycNJCDLSRg2HreBodjru09RLXcdIwRFaAI2nxVBkiE1E5tc0QQumw56KBpLGiZ3PwDGcrYZ6pjSCEuEonB2A1Qm1Im4jYW_lBo/file\n",
            "Reusing existing connection to ucb75c07d43635cde1e0790d17ef.dl.dropboxusercontent.com:443.\n",
            "HTTP request sent, awaiting response... 200 OK\n",
            "Length: 282442597 (269M) [application/octet-stream]\n",
            "Saving to: ‘./weights/blur_jpg_prob0.5.pth’\n",
            "\n",
            "./weights/blur_jpg_ 100%[===================>] 269.36M  15.5MB/s    in 25s     \n",
            "\n",
            "2021-10-12 06:51:32 (10.9 MB/s) - ‘./weights/blur_jpg_prob0.5.pth’ saved [282442597/282442597]\n",
            "\n",
            "--2021-10-12 06:51:32--  https://www.dropbox.com/s/h7tkpcgiwuftb6g/blur_jpg_prob0.1.pth?dl=0\n",
            "Resolving www.dropbox.com (www.dropbox.com)... 162.125.3.18, 2620:100:601b:18::a27d:812\n",
            "Connecting to www.dropbox.com (www.dropbox.com)|162.125.3.18|:443... connected.\n",
            "HTTP request sent, awaiting response... 301 Moved Permanently\n",
            "Location: /s/raw/h7tkpcgiwuftb6g/blur_jpg_prob0.1.pth [following]\n",
            "--2021-10-12 06:51:32--  https://www.dropbox.com/s/raw/h7tkpcgiwuftb6g/blur_jpg_prob0.1.pth\n",
            "Reusing existing connection to www.dropbox.com:443.\n",
            "HTTP request sent, awaiting response... 302 Found\n",
            "Location: https://ucdc2ef11133e9085d7e3204fae6.dl.dropboxusercontent.com/cd/0/inline/BX75QEKyyVf7q9WP0yiB_xo0IEDkcsUL2AHVpgiCM3o_wpLcXc8Ak1pqqFHj1VQoBkLdb9nd5rDuqZi1ExG0HHADDyKQWQ2fWo-iDWhqyjHBrS9gcRuxC4y0TbyCRf0fLr58FZ5Py0TtdoubPOLBKul9/file# [following]\n",
            "--2021-10-12 06:51:33--  https://ucdc2ef11133e9085d7e3204fae6.dl.dropboxusercontent.com/cd/0/inline/BX75QEKyyVf7q9WP0yiB_xo0IEDkcsUL2AHVpgiCM3o_wpLcXc8Ak1pqqFHj1VQoBkLdb9nd5rDuqZi1ExG0HHADDyKQWQ2fWo-iDWhqyjHBrS9gcRuxC4y0TbyCRf0fLr58FZ5Py0TtdoubPOLBKul9/file\n",
            "Resolving ucdc2ef11133e9085d7e3204fae6.dl.dropboxusercontent.com (ucdc2ef11133e9085d7e3204fae6.dl.dropboxusercontent.com)... 162.125.4.15, 2620:100:601b:15::a27d:80f\n",
            "Connecting to ucdc2ef11133e9085d7e3204fae6.dl.dropboxusercontent.com (ucdc2ef11133e9085d7e3204fae6.dl.dropboxusercontent.com)|162.125.4.15|:443... connected.\n",
            "HTTP request sent, awaiting response... 302 Found\n",
            "Location: /cd/0/inline2/BX5sGvyMg-S0deDFv_yrYysvJT67FFoSNYn5cKvExoSYsRP25J8xZPCcr-JvC7UzA0LpAfrsNupViS7bMKjyWizVryvN14eqs-Kro6nyHXTu5eb9BBBamIEUpaOr7SkQ-UPncDTuYcTQlCWIOR-0rphtckQlqlN7aroeIRITmtyADZM4wVpQQsawFuwc7u9Ce_1F_BRJRzlQ2ZQpZUMPAjSz5Bp2uhjgOXZWBD_VCcCkqHyrAlFgdaF6tLjwewrWn4J0Zmjbfn-uHI2s-xXbQZ1gjo8Vw0lEJSFYtt0oxxd7DwAFRhrhURPGQWA8s13D4mnpxVwpIm3TMv5rfXjSeCDiTlqgcshXu9Ew1lozZb2WCgTrivCiq4umtd_3ztbW7FM/file [following]\n",
            "--2021-10-12 06:51:33--  https://ucdc2ef11133e9085d7e3204fae6.dl.dropboxusercontent.com/cd/0/inline2/BX5sGvyMg-S0deDFv_yrYysvJT67FFoSNYn5cKvExoSYsRP25J8xZPCcr-JvC7UzA0LpAfrsNupViS7bMKjyWizVryvN14eqs-Kro6nyHXTu5eb9BBBamIEUpaOr7SkQ-UPncDTuYcTQlCWIOR-0rphtckQlqlN7aroeIRITmtyADZM4wVpQQsawFuwc7u9Ce_1F_BRJRzlQ2ZQpZUMPAjSz5Bp2uhjgOXZWBD_VCcCkqHyrAlFgdaF6tLjwewrWn4J0Zmjbfn-uHI2s-xXbQZ1gjo8Vw0lEJSFYtt0oxxd7DwAFRhrhURPGQWA8s13D4mnpxVwpIm3TMv5rfXjSeCDiTlqgcshXu9Ew1lozZb2WCgTrivCiq4umtd_3ztbW7FM/file\n",
            "Reusing existing connection to ucdc2ef11133e9085d7e3204fae6.dl.dropboxusercontent.com:443.\n",
            "HTTP request sent, awaiting response... 200 OK\n",
            "Length: 282442597 (269M) [application/octet-stream]\n",
            "Saving to: ‘./weights/blur_jpg_prob0.1.pth’\n",
            "\n",
            "./weights/blur_jpg_ 100%[===================>] 269.36M  45.1MB/s    in 6.2s    \n",
            "\n",
            "2021-10-12 06:51:40 (43.4 MB/s) - ‘./weights/blur_jpg_prob0.1.pth’ saved [282442597/282442597]\n",
            "\n"
          ]
        }
      ]
    },
    {
      "cell_type": "code",
      "metadata": {
        "colab": {
          "base_uri": "https://localhost:8080/"
        },
        "id": "xQKJ4KuxNB7F",
        "outputId": "3b0aa07a-1983-47ae-9252-c6a8f491e5b4"
      },
      "source": [
        "from google.colab import drive\n",
        "drive.mount('/content/drive')"
      ],
      "execution_count": null,
      "outputs": [
        {
          "output_type": "stream",
          "name": "stdout",
          "text": [
            "Mounted at /content/drive\n"
          ]
        }
      ]
    },
    {
      "cell_type": "code",
      "metadata": {
        "id": "2_F7QYmPPnIE"
      },
      "source": [
        "from PIL import Image\n",
        "import os, sys\n",
        "\n",
        "path = \"/content/drive/MyDrive/StyleGAN2_Datasets/Naive_Dataset/1_fake\"\n",
        "\n",
        "def resize():\n",
        "    for i in os.listdir(path):\n",
        "      file = f\"{path}/{i}\"\n",
        "      im = Image.open(file)\n",
        "      im = im.resize((256, 256), Image.ANTIALIAS)\n",
        "      im.save(file)"
      ],
      "execution_count": null,
      "outputs": []
    },
    {
      "cell_type": "code",
      "metadata": {
        "id": "tYwDmw3KQ1qw"
      },
      "source": [
        "resize()"
      ],
      "execution_count": null,
      "outputs": []
    },
    {
      "cell_type": "markdown",
      "metadata": {
        "id": "ryqfkn0g_9IZ"
      },
      "source": [
        "# **StyleGAN**"
      ]
    },
    {
      "cell_type": "code",
      "metadata": {
        "colab": {
          "base_uri": "https://localhost:8080/"
        },
        "id": "3Ha3XhPKhbt8",
        "outputId": "a74795a2-3783-4401-aa08-e106cbbee553"
      },
      "source": [
        "!python demo_dir.py -d '/content/drive/MyDrive/StyleGAN2_Datasets/Naive_Dataset' -m weights/blur_jpg_prob0.5.pth"
      ],
      "execution_count": null,
      "outputs": [
        {
          "output_type": "stream",
          "name": "stdout",
          "text": [
            "Not cropping\n",
            "Loading [1] datasets\n",
            "/usr/local/lib/python3.7/dist-packages/torch/utils/data/dataloader.py:481: UserWarning: This DataLoader will create 4 worker processes in total. Our suggested max number of worker in current system is 2, which is smaller than what this DataLoader is going to create. Please be aware that excessive worker creation might get DataLoader running slow or even freeze, lower the worker number to avoid potential slowness/freeze if necessary.\n",
            "  cpuset_checked))\n",
            "\r  0% 0/55 [00:00<?, ?it/s]/usr/local/lib/python3.7/dist-packages/torch/nn/functional.py:718: UserWarning: Named tensors and all their associated APIs are an experimental feature and subject to change. Please do not use them for anything important until they are released as stable. (Triggered internally at  /pytorch/c10/core/TensorImpl.h:1156.)\n",
            "  return torch.max_pool2d(input, kernel_size, stride, padding, dilation, ceil_mode)\n",
            "100% 55/55 [00:17<00:00,  3.23it/s]\n",
            "Average sizes: [256.00+/-0.00] x [256.00+/-0.00] = [0.07+/-0.00 Mpix]\n",
            "Num reals: 880, Num fakes: 880\n",
            "AP: 88.94, Acc: 61.82, Acc (real): 100.00, Acc (fake): 23.64\n"
          ]
        }
      ]
    },
    {
      "cell_type": "code",
      "metadata": {
        "colab": {
          "base_uri": "https://localhost:8080/"
        },
        "id": "Tg8HDf2wl-4c",
        "outputId": "89c0ac20-1ff1-4a7c-f367-bb0a889a9cb6"
      },
      "source": [
        "!python demo_dir.py -d '/content/drive/MyDrive/StyleGAN2_Datasets/Naive_Dataset' -m weights/blur_jpg_prob0.1.pth"
      ],
      "execution_count": null,
      "outputs": [
        {
          "output_type": "stream",
          "name": "stdout",
          "text": [
            "Not cropping\n",
            "Loading [1] datasets\n",
            "/usr/local/lib/python3.7/dist-packages/torch/utils/data/dataloader.py:481: UserWarning: This DataLoader will create 4 worker processes in total. Our suggested max number of worker in current system is 2, which is smaller than what this DataLoader is going to create. Please be aware that excessive worker creation might get DataLoader running slow or even freeze, lower the worker number to avoid potential slowness/freeze if necessary.\n",
            "  cpuset_checked))\n",
            "\r  0% 0/55 [00:00<?, ?it/s]/usr/local/lib/python3.7/dist-packages/torch/nn/functional.py:718: UserWarning: Named tensors and all their associated APIs are an experimental feature and subject to change. Please do not use them for anything important until they are released as stable. (Triggered internally at  /pytorch/c10/core/TensorImpl.h:1156.)\n",
            "  return torch.max_pool2d(input, kernel_size, stride, padding, dilation, ceil_mode)\n",
            "100% 55/55 [00:17<00:00,  3.22it/s]\n",
            "Average sizes: [256.00+/-0.00] x [256.00+/-0.00] = [0.07+/-0.00 Mpix]\n",
            "Num reals: 880, Num fakes: 880\n",
            "AP: 97.94, Acc: 89.38, Acc (real): 99.32, Acc (fake): 79.43\n"
          ]
        }
      ]
    },
    {
      "cell_type": "code",
      "metadata": {
        "colab": {
          "base_uri": "https://localhost:8080/"
        },
        "id": "99ioJ3ON9d8Z",
        "outputId": "c8a7c588-0d4e-4d8a-9012-353c592a1e97"
      },
      "source": [
        "!python demo_dir.py -d '/content/drive/MyDrive/StyleGAN2_Datasets/Gaussian_Dataset' -m weights/blur_jpg_prob0.5.pth"
      ],
      "execution_count": null,
      "outputs": [
        {
          "output_type": "stream",
          "name": "stdout",
          "text": [
            "Not cropping\n",
            "Loading [1] datasets\n",
            "/usr/local/lib/python3.7/dist-packages/torch/utils/data/dataloader.py:481: UserWarning: This DataLoader will create 4 worker processes in total. Our suggested max number of worker in current system is 2, which is smaller than what this DataLoader is going to create. Please be aware that excessive worker creation might get DataLoader running slow or even freeze, lower the worker number to avoid potential slowness/freeze if necessary.\n",
            "  cpuset_checked))\n",
            "  0% 0/55 [00:00<?, ?it/s]/usr/local/lib/python3.7/dist-packages/torch/nn/functional.py:718: UserWarning: Named tensors and all their associated APIs are an experimental feature and subject to change. Please do not use them for anything important until they are released as stable. (Triggered internally at  /pytorch/c10/core/TensorImpl.h:1156.)\n",
            "  return torch.max_pool2d(input, kernel_size, stride, padding, dilation, ceil_mode)\n",
            "100% 55/55 [03:02<00:00,  3.31s/it]\n",
            "Average sizes: [256.00+/-0.00] x [256.00+/-0.00] = [0.07+/-0.00 Mpix]\n",
            "Num reals: 880, Num fakes: 880\n",
            "AP: 40.66, Acc: 50.00, Acc (real): 100.00, Acc (fake): 0.00\n"
          ]
        }
      ]
    },
    {
      "cell_type": "code",
      "metadata": {
        "colab": {
          "base_uri": "https://localhost:8080/"
        },
        "id": "0JG8lKWw9jAZ",
        "outputId": "8c064b25-1e25-4a01-dc31-9b16efff9cc8"
      },
      "source": [
        "!python demo_dir.py -d '/content/drive/MyDrive/StyleGAN2_Datasets/Gaussian_Dataset' -m weights/blur_jpg_prob0.1.pth"
      ],
      "execution_count": null,
      "outputs": [
        {
          "output_type": "stream",
          "name": "stdout",
          "text": [
            "Not cropping\n",
            "Loading [1] datasets\n",
            "/usr/local/lib/python3.7/dist-packages/torch/utils/data/dataloader.py:481: UserWarning: This DataLoader will create 4 worker processes in total. Our suggested max number of worker in current system is 2, which is smaller than what this DataLoader is going to create. Please be aware that excessive worker creation might get DataLoader running slow or even freeze, lower the worker number to avoid potential slowness/freeze if necessary.\n",
            "  cpuset_checked))\n",
            "\r  0% 0/55 [00:00<?, ?it/s]/usr/local/lib/python3.7/dist-packages/torch/nn/functional.py:718: UserWarning: Named tensors and all their associated APIs are an experimental feature and subject to change. Please do not use them for anything important until they are released as stable. (Triggered internally at  /pytorch/c10/core/TensorImpl.h:1156.)\n",
            "  return torch.max_pool2d(input, kernel_size, stride, padding, dilation, ceil_mode)\n",
            "100% 55/55 [00:16<00:00,  3.24it/s]\n",
            "Average sizes: [256.00+/-0.00] x [256.00+/-0.00] = [0.07+/-0.00 Mpix]\n",
            "Num reals: 880, Num fakes: 880\n",
            "AP: 39.07, Acc: 50.00, Acc (real): 100.00, Acc (fake): 0.00\n"
          ]
        }
      ]
    },
    {
      "cell_type": "code",
      "metadata": {
        "colab": {
          "base_uri": "https://localhost:8080/"
        },
        "id": "tVkx93qKEM0R",
        "outputId": "8c85c578-5365-4efc-8917-31d126cfb4e5"
      },
      "source": [
        "!python demo_dir.py -d '/content/drive/MyDrive/StyleGAN2_Datasets/Gaussian_Denoised_Dataset' -m weights/blur_jpg_prob0.5.pth"
      ],
      "execution_count": null,
      "outputs": [
        {
          "output_type": "stream",
          "name": "stdout",
          "text": [
            "Not cropping\n",
            "Loading [1] datasets\n",
            "/usr/local/lib/python3.7/dist-packages/torch/utils/data/dataloader.py:481: UserWarning: This DataLoader will create 4 worker processes in total. Our suggested max number of worker in current system is 2, which is smaller than what this DataLoader is going to create. Please be aware that excessive worker creation might get DataLoader running slow or even freeze, lower the worker number to avoid potential slowness/freeze if necessary.\n",
            "  cpuset_checked))\n",
            "  0% 0/55 [00:00<?, ?it/s]/usr/local/lib/python3.7/dist-packages/torch/nn/functional.py:718: UserWarning: Named tensors and all their associated APIs are an experimental feature and subject to change. Please do not use them for anything important until they are released as stable. (Triggered internally at  /pytorch/c10/core/TensorImpl.h:1156.)\n",
            "  return torch.max_pool2d(input, kernel_size, stride, padding, dilation, ceil_mode)\n",
            "100% 55/55 [04:02<00:00,  4.41s/it]\n",
            "Average sizes: [256.00+/-0.00] x [256.00+/-0.00] = [0.07+/-0.00 Mpix]\n",
            "Num reals: 880, Num fakes: 880\n",
            "AP: 69.33, Acc: 56.25, Acc (real): 93.07, Acc (fake): 19.43\n"
          ]
        }
      ]
    },
    {
      "cell_type": "code",
      "metadata": {
        "colab": {
          "base_uri": "https://localhost:8080/"
        },
        "id": "zBlV452VEQ8x",
        "outputId": "d2ce7559-b602-47f5-a00d-e6223e78124e"
      },
      "source": [
        "!python demo_dir.py -d '/content/drive/MyDrive/StyleGAN2_Datasets/Gaussian_Denoised_Dataset' -m weights/blur_jpg_prob0.1.pth"
      ],
      "execution_count": null,
      "outputs": [
        {
          "output_type": "stream",
          "name": "stdout",
          "text": [
            "Not cropping\n",
            "Loading [1] datasets\n",
            "/usr/local/lib/python3.7/dist-packages/torch/utils/data/dataloader.py:481: UserWarning: This DataLoader will create 4 worker processes in total. Our suggested max number of worker in current system is 2, which is smaller than what this DataLoader is going to create. Please be aware that excessive worker creation might get DataLoader running slow or even freeze, lower the worker number to avoid potential slowness/freeze if necessary.\n",
            "  cpuset_checked))\n",
            "  0% 0/55 [00:00<?, ?it/s]/usr/local/lib/python3.7/dist-packages/torch/nn/functional.py:718: UserWarning: Named tensors and all their associated APIs are an experimental feature and subject to change. Please do not use them for anything important until they are released as stable. (Triggered internally at  /pytorch/c10/core/TensorImpl.h:1156.)\n",
            "  return torch.max_pool2d(input, kernel_size, stride, padding, dilation, ceil_mode)\n",
            "100% 55/55 [00:16<00:00,  3.24it/s]\n",
            "Average sizes: [256.00+/-0.00] x [256.00+/-0.00] = [0.07+/-0.00 Mpix]\n",
            "Num reals: 880, Num fakes: 880\n",
            "AP: 78.86, Acc: 75.91, Acc (real): 72.39, Acc (fake): 79.43\n"
          ]
        }
      ]
    },
    {
      "cell_type": "code",
      "metadata": {
        "colab": {
          "base_uri": "https://localhost:8080/"
        },
        "id": "H7Ei0Vr6EDiq",
        "outputId": "bd5f7e79-4405-4b5e-fba0-f8fd47fcaad2"
      },
      "source": [
        "!python demo_dir.py -d '/content/drive/MyDrive/StyleGAN2_Datasets/Adversarial_Dataset' -m weights/blur_jpg_prob0.5.pth"
      ],
      "execution_count": null,
      "outputs": [
        {
          "output_type": "stream",
          "name": "stdout",
          "text": [
            "Not cropping\n",
            "Loading [1] datasets\n",
            "/usr/local/lib/python3.7/dist-packages/torch/utils/data/dataloader.py:481: UserWarning: This DataLoader will create 4 worker processes in total. Our suggested max number of worker in current system is 2, which is smaller than what this DataLoader is going to create. Please be aware that excessive worker creation might get DataLoader running slow or even freeze, lower the worker number to avoid potential slowness/freeze if necessary.\n",
            "  cpuset_checked))\n",
            "\r  0% 0/55 [00:00<?, ?it/s]/usr/local/lib/python3.7/dist-packages/torch/nn/functional.py:718: UserWarning: Named tensors and all their associated APIs are an experimental feature and subject to change. Please do not use them for anything important until they are released as stable. (Triggered internally at  /pytorch/c10/core/TensorImpl.h:1156.)\n",
            "  return torch.max_pool2d(input, kernel_size, stride, padding, dilation, ceil_mode)\n",
            "100% 55/55 [05:16<00:00,  5.75s/it]\n",
            "Average sizes: [256.00+/-0.00] x [256.00+/-0.00] = [0.07+/-0.00 Mpix]\n",
            "Num reals: 880, Num fakes: 880\n",
            "AP: 55.73, Acc: 50.11, Acc (real): 100.00, Acc (fake): 0.23\n"
          ]
        }
      ]
    },
    {
      "cell_type": "code",
      "metadata": {
        "colab": {
          "base_uri": "https://localhost:8080/"
        },
        "id": "l1alirKAEHmp",
        "outputId": "70baf5f7-8a0a-45b3-baf0-c6b46014d083"
      },
      "source": [
        "!python demo_dir.py -d '/content/drive/MyDrive/StyleGAN2_Datasets/Adversarial_Dataset' -m weights/blur_jpg_prob0.1.pth"
      ],
      "execution_count": null,
      "outputs": [
        {
          "output_type": "stream",
          "name": "stdout",
          "text": [
            "Not cropping\n",
            "Loading [1] datasets\n",
            "/usr/local/lib/python3.7/dist-packages/torch/utils/data/dataloader.py:481: UserWarning: This DataLoader will create 4 worker processes in total. Our suggested max number of worker in current system is 2, which is smaller than what this DataLoader is going to create. Please be aware that excessive worker creation might get DataLoader running slow or even freeze, lower the worker number to avoid potential slowness/freeze if necessary.\n",
            "  cpuset_checked))\n",
            "\r  0% 0/55 [00:00<?, ?it/s]/usr/local/lib/python3.7/dist-packages/torch/nn/functional.py:718: UserWarning: Named tensors and all their associated APIs are an experimental feature and subject to change. Please do not use them for anything important until they are released as stable. (Triggered internally at  /pytorch/c10/core/TensorImpl.h:1156.)\n",
            "  return torch.max_pool2d(input, kernel_size, stride, padding, dilation, ceil_mode)\n",
            "100% 55/55 [00:17<00:00,  3.20it/s]\n",
            "Average sizes: [256.00+/-0.00] x [256.00+/-0.00] = [0.07+/-0.00 Mpix]\n",
            "Num reals: 880, Num fakes: 880\n",
            "AP: 47.98, Acc: 50.11, Acc (real): 100.00, Acc (fake): 0.23\n"
          ]
        }
      ]
    },
    {
      "cell_type": "code",
      "metadata": {
        "colab": {
          "base_uri": "https://localhost:8080/"
        },
        "id": "Y5aHw_NhEV0q",
        "outputId": "8f4e3b27-8c54-476f-9324-1b938e20ee01"
      },
      "source": [
        "!python demo_dir.py -d '/content/drive/MyDrive/StyleGAN2_Datasets/Adversarial_Denoised_Dataset' -m weights/blur_jpg_prob0.5.pth"
      ],
      "execution_count": null,
      "outputs": [
        {
          "output_type": "stream",
          "name": "stdout",
          "text": [
            "Not cropping\n",
            "Loading [1] datasets\n",
            "/usr/local/lib/python3.7/dist-packages/torch/utils/data/dataloader.py:481: UserWarning: This DataLoader will create 4 worker processes in total. Our suggested max number of worker in current system is 2, which is smaller than what this DataLoader is going to create. Please be aware that excessive worker creation might get DataLoader running slow or even freeze, lower the worker number to avoid potential slowness/freeze if necessary.\n",
            "  cpuset_checked))\n",
            "\r  0% 0/55 [00:00<?, ?it/s]/usr/local/lib/python3.7/dist-packages/torch/nn/functional.py:718: UserWarning: Named tensors and all their associated APIs are an experimental feature and subject to change. Please do not use them for anything important until they are released as stable. (Triggered internally at  /pytorch/c10/core/TensorImpl.h:1156.)\n",
            "  return torch.max_pool2d(input, kernel_size, stride, padding, dilation, ceil_mode)\n",
            "100% 55/55 [04:53<00:00,  5.33s/it]\n",
            "Average sizes: [256.00+/-0.00] x [256.00+/-0.00] = [0.07+/-0.00 Mpix]\n",
            "Num reals: 880, Num fakes: 880\n",
            "AP: 62.75, Acc: 54.26, Acc (real): 90.45, Acc (fake): 18.07\n"
          ]
        }
      ]
    },
    {
      "cell_type": "code",
      "metadata": {
        "colab": {
          "base_uri": "https://localhost:8080/"
        },
        "id": "EzEUEQaiEZKh",
        "outputId": "659abde2-4e7a-4ec9-ed17-80cd5987709b"
      },
      "source": [
        "!python demo_dir.py -d '/content/drive/MyDrive/StyleGAN2_Datasets/Adversarial_Denoised_Dataset' -m weights/blur_jpg_prob0.1.pth"
      ],
      "execution_count": null,
      "outputs": [
        {
          "output_type": "stream",
          "name": "stdout",
          "text": [
            "Not cropping\n",
            "Loading [1] datasets\n",
            "/usr/local/lib/python3.7/dist-packages/torch/utils/data/dataloader.py:481: UserWarning: This DataLoader will create 4 worker processes in total. Our suggested max number of worker in current system is 2, which is smaller than what this DataLoader is going to create. Please be aware that excessive worker creation might get DataLoader running slow or even freeze, lower the worker number to avoid potential slowness/freeze if necessary.\n",
            "  cpuset_checked))\n",
            "\r  0% 0/55 [00:00<?, ?it/s]/usr/local/lib/python3.7/dist-packages/torch/nn/functional.py:718: UserWarning: Named tensors and all their associated APIs are an experimental feature and subject to change. Please do not use them for anything important until they are released as stable. (Triggered internally at  /pytorch/c10/core/TensorImpl.h:1156.)\n",
            "  return torch.max_pool2d(input, kernel_size, stride, padding, dilation, ceil_mode)\n",
            "100% 55/55 [00:17<00:00,  3.20it/s]\n",
            "Average sizes: [256.00+/-0.00] x [256.00+/-0.00] = [0.07+/-0.00 Mpix]\n",
            "Num reals: 880, Num fakes: 880\n",
            "AP: 64.95, Acc: 66.76, Acc (real): 59.66, Acc (fake): 73.86\n"
          ]
        }
      ]
    },
    {
      "cell_type": "code",
      "metadata": {
        "colab": {
          "base_uri": "https://localhost:8080/"
        },
        "id": "caWR7Kvvz9L9",
        "outputId": "f321ce17-fd50-4cca-b563-a0b2f0fdfa7e"
      },
      "source": [
        "!python demo_dir.py -d '/content/drive/MyDrive/StyleGAN2_Datasets/Adversarial_Blur_Dataset' -m weights/blur_jpg_prob0.5.pth"
      ],
      "execution_count": null,
      "outputs": [
        {
          "output_type": "stream",
          "name": "stdout",
          "text": [
            "Not cropping\n",
            "Loading [1] datasets\n",
            "/usr/local/lib/python3.7/dist-packages/torch/utils/data/dataloader.py:481: UserWarning: This DataLoader will create 4 worker processes in total. Our suggested max number of worker in current system is 2, which is smaller than what this DataLoader is going to create. Please be aware that excessive worker creation might get DataLoader running slow or even freeze, lower the worker number to avoid potential slowness/freeze if necessary.\n",
            "  cpuset_checked))\n",
            "  0% 0/55 [00:00<?, ?it/s]/usr/local/lib/python3.7/dist-packages/torch/nn/functional.py:718: UserWarning: Named tensors and all their associated APIs are an experimental feature and subject to change. Please do not use them for anything important until they are released as stable. (Triggered internally at  /pytorch/c10/core/TensorImpl.h:1156.)\n",
            "  return torch.max_pool2d(input, kernel_size, stride, padding, dilation, ceil_mode)\n",
            "100% 55/55 [02:02<00:00,  2.22s/it]\n",
            "Average sizes: [256.00+/-0.00] x [256.00+/-0.00] = [0.07+/-0.00 Mpix]\n",
            "Num reals: 880, Num fakes: 880\n",
            "AP: 87.71, Acc: 66.59, Acc (real): 99.66, Acc (fake): 33.52\n"
          ]
        }
      ]
    },
    {
      "cell_type": "code",
      "metadata": {
        "colab": {
          "base_uri": "https://localhost:8080/"
        },
        "id": "XG-F5KEf0CLc",
        "outputId": "23cf03a4-6f2f-4b7d-a948-3fe4c14fe759"
      },
      "source": [
        "!python demo_dir.py -d '/content/drive/MyDrive/StyleGAN2_Datasets/Adversarial_Blur_Dataset' -m weights/blur_jpg_prob0.1.pth"
      ],
      "execution_count": null,
      "outputs": [
        {
          "output_type": "stream",
          "name": "stdout",
          "text": [
            "Not cropping\n",
            "Loading [1] datasets\n",
            "/usr/local/lib/python3.7/dist-packages/torch/utils/data/dataloader.py:481: UserWarning: This DataLoader will create 4 worker processes in total. Our suggested max number of worker in current system is 2, which is smaller than what this DataLoader is going to create. Please be aware that excessive worker creation might get DataLoader running slow or even freeze, lower the worker number to avoid potential slowness/freeze if necessary.\n",
            "  cpuset_checked))\n",
            "\r  0% 0/55 [00:00<?, ?it/s]/usr/local/lib/python3.7/dist-packages/torch/nn/functional.py:718: UserWarning: Named tensors and all their associated APIs are an experimental feature and subject to change. Please do not use them for anything important until they are released as stable. (Triggered internally at  /pytorch/c10/core/TensorImpl.h:1156.)\n",
            "  return torch.max_pool2d(input, kernel_size, stride, padding, dilation, ceil_mode)\n",
            "100% 55/55 [00:16<00:00,  3.35it/s]\n",
            "Average sizes: [256.00+/-0.00] x [256.00+/-0.00] = [0.07+/-0.00 Mpix]\n",
            "Num reals: 880, Num fakes: 880\n",
            "AP: 98.14, Acc: 91.02, Acc (real): 98.41, Acc (fake): 83.64\n"
          ]
        }
      ]
    },
    {
      "cell_type": "code",
      "metadata": {
        "colab": {
          "base_uri": "https://localhost:8080/"
        },
        "id": "rfupKzs40Qjz",
        "outputId": "ec9d06c9-67a0-4089-eaeb-8b9eb3ad7e90"
      },
      "source": [
        "!python demo_dir.py -d '/content/drive/MyDrive/StyleGAN2_Datasets/Adversarial_Blur_Deblurred_Dataset' -m weights/blur_jpg_prob0.5.pth"
      ],
      "execution_count": null,
      "outputs": [
        {
          "output_type": "stream",
          "name": "stdout",
          "text": [
            "Not cropping\n",
            "Loading [1] datasets\n",
            "/usr/local/lib/python3.7/dist-packages/torch/utils/data/dataloader.py:481: UserWarning: This DataLoader will create 4 worker processes in total. Our suggested max number of worker in current system is 2, which is smaller than what this DataLoader is going to create. Please be aware that excessive worker creation might get DataLoader running slow or even freeze, lower the worker number to avoid potential slowness/freeze if necessary.\n",
            "  cpuset_checked))\n",
            "  0% 0/55 [00:00<?, ?it/s]/usr/local/lib/python3.7/dist-packages/torch/nn/functional.py:718: UserWarning: Named tensors and all their associated APIs are an experimental feature and subject to change. Please do not use them for anything important until they are released as stable. (Triggered internally at  /pytorch/c10/core/TensorImpl.h:1156.)\n",
            "  return torch.max_pool2d(input, kernel_size, stride, padding, dilation, ceil_mode)\n",
            "100% 55/55 [04:07<00:00,  4.49s/it]\n",
            "Average sizes: [256.00+/-0.00] x [256.00+/-0.00] = [0.07+/-0.00 Mpix]\n",
            "Num reals: 880, Num fakes: 880\n",
            "AP: 82.55, Acc: 65.45, Acc (real): 98.41, Acc (fake): 32.50\n"
          ]
        }
      ]
    },
    {
      "cell_type": "code",
      "metadata": {
        "colab": {
          "base_uri": "https://localhost:8080/"
        },
        "id": "ivw3sP8c0VKy",
        "outputId": "2edc3ad2-7bca-4eca-8a8f-f9d7bdab1ec0"
      },
      "source": [
        "!python demo_dir.py -d '/content/drive/MyDrive/StyleGAN2_Datasets/Adversarial_Blur_Deblurred_Dataset' -m weights/blur_jpg_prob0.1.pth"
      ],
      "execution_count": null,
      "outputs": [
        {
          "output_type": "stream",
          "name": "stdout",
          "text": [
            "Not cropping\n",
            "Loading [1] datasets\n",
            "/usr/local/lib/python3.7/dist-packages/torch/utils/data/dataloader.py:481: UserWarning: This DataLoader will create 4 worker processes in total. Our suggested max number of worker in current system is 2, which is smaller than what this DataLoader is going to create. Please be aware that excessive worker creation might get DataLoader running slow or even freeze, lower the worker number to avoid potential slowness/freeze if necessary.\n",
            "  cpuset_checked))\n",
            "\r  0% 0/55 [00:00<?, ?it/s]/usr/local/lib/python3.7/dist-packages/torch/nn/functional.py:718: UserWarning: Named tensors and all their associated APIs are an experimental feature and subject to change. Please do not use them for anything important until they are released as stable. (Triggered internally at  /pytorch/c10/core/TensorImpl.h:1156.)\n",
            "  return torch.max_pool2d(input, kernel_size, stride, padding, dilation, ceil_mode)\n",
            "100% 55/55 [00:16<00:00,  3.28it/s]\n",
            "Average sizes: [256.00+/-0.00] x [256.00+/-0.00] = [0.07+/-0.00 Mpix]\n",
            "Num reals: 880, Num fakes: 880\n",
            "AP: 96.43, Acc: 88.01, Acc (real): 95.91, Acc (fake): 80.11\n"
          ]
        }
      ]
    },
    {
      "cell_type": "markdown",
      "metadata": {
        "id": "T5iCIQlW_3lC"
      },
      "source": [
        "# **StarGAN**"
      ]
    },
    {
      "cell_type": "code",
      "metadata": {
        "colab": {
          "base_uri": "https://localhost:8080/"
        },
        "id": "sVNrv3HVMqsm",
        "outputId": "726301af-d2a6-46dc-9647-c2e8c47f375d"
      },
      "source": [
        "!python demo_dir.py -d '/content/drive/MyDrive/FYP_Dataset' -m weights/blur_jpg_prob0.5.pth"
      ],
      "execution_count": null,
      "outputs": [
        {
          "output_type": "stream",
          "name": "stdout",
          "text": [
            "Not cropping\n",
            "Loading [1] datasets\n",
            "/usr/local/lib/python3.7/dist-packages/torch/utils/data/dataloader.py:481: UserWarning: This DataLoader will create 4 worker processes in total. Our suggested max number of worker in current system is 2, which is smaller than what this DataLoader is going to create. Please be aware that excessive worker creation might get DataLoader running slow or even freeze, lower the worker number to avoid potential slowness/freeze if necessary.\n",
            "  cpuset_checked))\n",
            "  0% 0/55 [00:00<?, ?it/s]/usr/local/lib/python3.7/dist-packages/torch/nn/functional.py:718: UserWarning: Named tensors and all their associated APIs are an experimental feature and subject to change. Please do not use them for anything important until they are released as stable. (Triggered internally at  /pytorch/c10/core/TensorImpl.h:1156.)\n",
            "  return torch.max_pool2d(input, kernel_size, stride, padding, dilation, ceil_mode)\n",
            "100% 55/55 [01:32<00:00,  1.68s/it]\n",
            "Average sizes: [256.00+/-0.00] x [256.00+/-0.00] = [0.07+/-0.00 Mpix]\n",
            "Num reals: 880, Num fakes: 880\n",
            "AP: 84.98, Acc: 54.09, Acc (real): 100.00, Acc (fake): 8.18\n"
          ]
        }
      ]
    },
    {
      "cell_type": "code",
      "metadata": {
        "colab": {
          "base_uri": "https://localhost:8080/"
        },
        "id": "UjS47tJaVnxF",
        "outputId": "6b274de5-c2a7-4c98-c612-74739e155f99"
      },
      "source": [
        "!python demo_dir.py -d '/content/drive/MyDrive/FYP_Dataset' -m weights/blur_jpg_prob0.1.pth"
      ],
      "execution_count": null,
      "outputs": [
        {
          "output_type": "stream",
          "name": "stdout",
          "text": [
            "Not cropping\n",
            "Loading [1] datasets\n",
            "/usr/local/lib/python3.7/dist-packages/torch/utils/data/dataloader.py:481: UserWarning: This DataLoader will create 4 worker processes in total. Our suggested max number of worker in current system is 2, which is smaller than what this DataLoader is going to create. Please be aware that excessive worker creation might get DataLoader running slow or even freeze, lower the worker number to avoid potential slowness/freeze if necessary.\n",
            "  cpuset_checked))\n",
            "\r  0% 0/55 [00:00<?, ?it/s]/usr/local/lib/python3.7/dist-packages/torch/nn/functional.py:718: UserWarning: Named tensors and all their associated APIs are an experimental feature and subject to change. Please do not use them for anything important until they are released as stable. (Triggered internally at  /pytorch/c10/core/TensorImpl.h:1156.)\n",
            "  return torch.max_pool2d(input, kernel_size, stride, padding, dilation, ceil_mode)\n",
            "100% 55/55 [00:17<00:00,  3.20it/s]\n",
            "Average sizes: [256.00+/-0.00] x [256.00+/-0.00] = [0.07+/-0.00 Mpix]\n",
            "Num reals: 880, Num fakes: 880\n",
            "AP: 83.64, Acc: 57.27, Acc (real): 99.32, Acc (fake): 15.23\n"
          ]
        }
      ]
    },
    {
      "cell_type": "code",
      "metadata": {
        "colab": {
          "base_uri": "https://localhost:8080/"
        },
        "id": "jsqwvh3roYsA",
        "outputId": "c9d0bf26-1df1-4fe1-d9c8-27ed738a2622"
      },
      "source": [
        "!python demo_dir.py -d '/content/drive/MyDrive/FYP_Dataset_Gaussian_Noise' -m weights/blur_jpg_prob0.5.pth"
      ],
      "execution_count": null,
      "outputs": [
        {
          "output_type": "stream",
          "name": "stdout",
          "text": [
            "Not cropping\n",
            "Loading [1] datasets\n",
            "/usr/local/lib/python3.7/dist-packages/torch/utils/data/dataloader.py:481: UserWarning: This DataLoader will create 4 worker processes in total. Our suggested max number of worker in current system is 2, which is smaller than what this DataLoader is going to create. Please be aware that excessive worker creation might get DataLoader running slow or even freeze, lower the worker number to avoid potential slowness/freeze if necessary.\n",
            "  cpuset_checked))\n",
            "  0% 0/56 [00:00<?, ?it/s]/usr/local/lib/python3.7/dist-packages/torch/nn/functional.py:718: UserWarning: Named tensors and all their associated APIs are an experimental feature and subject to change. Please do not use them for anything important until they are released as stable. (Triggered internally at  /pytorch/c10/core/TensorImpl.h:1156.)\n",
            "  return torch.max_pool2d(input, kernel_size, stride, padding, dilation, ceil_mode)\n",
            "100% 56/56 [02:53<00:00,  3.10s/it]\n",
            "Average sizes: [256.00+/-0.00] x [256.00+/-0.00] = [0.07+/-0.00 Mpix]\n",
            "Num reals: 880, Num fakes: 882\n",
            "AP: 62.35, Acc: 50.17, Acc (real): 100.00, Acc (fake): 0.45\n"
          ]
        }
      ]
    },
    {
      "cell_type": "code",
      "metadata": {
        "colab": {
          "base_uri": "https://localhost:8080/"
        },
        "id": "eSil-UgVoe0d",
        "outputId": "bc9c6e18-9f92-481d-8ccf-5a4221908010"
      },
      "source": [
        "!python demo_dir.py -d '/content/drive/MyDrive/FYP_Dataset_Gaussian_Noise' -m weights/blur_jpg_prob0.1.pth"
      ],
      "execution_count": null,
      "outputs": [
        {
          "output_type": "stream",
          "name": "stdout",
          "text": [
            "Not cropping\n",
            "Loading [1] datasets\n",
            "/usr/local/lib/python3.7/dist-packages/torch/utils/data/dataloader.py:481: UserWarning: This DataLoader will create 4 worker processes in total. Our suggested max number of worker in current system is 2, which is smaller than what this DataLoader is going to create. Please be aware that excessive worker creation might get DataLoader running slow or even freeze, lower the worker number to avoid potential slowness/freeze if necessary.\n",
            "  cpuset_checked))\n",
            "\r  0% 0/56 [00:00<?, ?it/s]/usr/local/lib/python3.7/dist-packages/torch/nn/functional.py:718: UserWarning: Named tensors and all their associated APIs are an experimental feature and subject to change. Please do not use them for anything important until they are released as stable. (Triggered internally at  /pytorch/c10/core/TensorImpl.h:1156.)\n",
            "  return torch.max_pool2d(input, kernel_size, stride, padding, dilation, ceil_mode)\n",
            "100% 56/56 [00:17<00:00,  3.24it/s]\n",
            "Average sizes: [256.00+/-0.00] x [256.00+/-0.00] = [0.07+/-0.00 Mpix]\n",
            "Num reals: 880, Num fakes: 882\n",
            "AP: 61.72, Acc: 49.94, Acc (real): 100.00, Acc (fake): 0.00\n"
          ]
        }
      ]
    },
    {
      "cell_type": "code",
      "metadata": {
        "colab": {
          "base_uri": "https://localhost:8080/"
        },
        "id": "_hW_HawI413H",
        "outputId": "49575e27-471c-4e80-9542-74c20183872f"
      },
      "source": [
        "!python demo_dir.py -d '/content/drive/MyDrive/FYP_Dataset_Gaussian_Denoised' -m weights/blur_jpg_prob0.5.pth"
      ],
      "execution_count": null,
      "outputs": [
        {
          "output_type": "stream",
          "name": "stdout",
          "text": [
            "Not cropping\n",
            "Loading [1] datasets\n",
            "/usr/local/lib/python3.7/dist-packages/torch/utils/data/dataloader.py:481: UserWarning: This DataLoader will create 4 worker processes in total. Our suggested max number of worker in current system is 2, which is smaller than what this DataLoader is going to create. Please be aware that excessive worker creation might get DataLoader running slow or even freeze, lower the worker number to avoid potential slowness/freeze if necessary.\n",
            "  cpuset_checked))\n",
            "  0% 0/55 [00:00<?, ?it/s]/usr/local/lib/python3.7/dist-packages/torch/nn/functional.py:718: UserWarning: Named tensors and all their associated APIs are an experimental feature and subject to change. Please do not use them for anything important until they are released as stable. (Triggered internally at  /pytorch/c10/core/TensorImpl.h:1156.)\n",
            "  return torch.max_pool2d(input, kernel_size, stride, padding, dilation, ceil_mode)\n",
            "100% 55/55 [01:56<00:00,  2.11s/it]\n",
            "Average sizes: [256.00+/-0.00] x [256.00+/-0.00] = [0.07+/-0.00 Mpix]\n",
            "Num reals: 880, Num fakes: 880\n",
            "AP: 66.74, Acc: 56.14, Acc (real): 92.61, Acc (fake): 19.66\n"
          ]
        }
      ]
    },
    {
      "cell_type": "code",
      "metadata": {
        "colab": {
          "base_uri": "https://localhost:8080/"
        },
        "id": "OgOo0dJ8Ea4Q",
        "outputId": "2235fadc-731f-4cc6-ddcc-1a4391a4ea76"
      },
      "source": [
        "!python demo_dir.py -d '/content/drive/MyDrive/FYP_Dataset_Gaussian_Denoised' -m weights/blur_jpg_prob0.1.pth"
      ],
      "execution_count": null,
      "outputs": [
        {
          "output_type": "stream",
          "name": "stdout",
          "text": [
            "Not cropping\n",
            "Loading [1] datasets\n",
            "/usr/local/lib/python3.7/dist-packages/torch/utils/data/dataloader.py:481: UserWarning: This DataLoader will create 4 worker processes in total. Our suggested max number of worker in current system is 2, which is smaller than what this DataLoader is going to create. Please be aware that excessive worker creation might get DataLoader running slow or even freeze, lower the worker number to avoid potential slowness/freeze if necessary.\n",
            "  cpuset_checked))\n",
            "\r  0% 0/55 [00:00<?, ?it/s]/usr/local/lib/python3.7/dist-packages/torch/nn/functional.py:718: UserWarning: Named tensors and all their associated APIs are an experimental feature and subject to change. Please do not use them for anything important until they are released as stable. (Triggered internally at  /pytorch/c10/core/TensorImpl.h:1156.)\n",
            "  return torch.max_pool2d(input, kernel_size, stride, padding, dilation, ceil_mode)\n",
            "100% 55/55 [00:15<00:00,  3.47it/s]\n",
            "Average sizes: [256.00+/-0.00] x [256.00+/-0.00] = [0.07+/-0.00 Mpix]\n",
            "Num reals: 880, Num fakes: 880\n",
            "AP: 68.37, Acc: 66.70, Acc (real): 72.95, Acc (fake): 60.45\n"
          ]
        }
      ]
    },
    {
      "cell_type": "code",
      "metadata": {
        "colab": {
          "base_uri": "https://localhost:8080/"
        },
        "id": "e7dizQFnuDLw",
        "outputId": "20e80e76-0a89-4e77-e80c-e11ae32a1c3d"
      },
      "source": [
        "!python demo_dir.py -d '/content/drive/MyDrive/FYP_Dataset_Adversarial_Noise' -m weights/blur_jpg_prob0.5.pth"
      ],
      "execution_count": null,
      "outputs": [
        {
          "output_type": "stream",
          "name": "stdout",
          "text": [
            "Not cropping\n",
            "Loading [1] datasets\n",
            "/usr/local/lib/python3.7/dist-packages/torch/utils/data/dataloader.py:481: UserWarning: This DataLoader will create 4 worker processes in total. Our suggested max number of worker in current system is 2, which is smaller than what this DataLoader is going to create. Please be aware that excessive worker creation might get DataLoader running slow or even freeze, lower the worker number to avoid potential slowness/freeze if necessary.\n",
            "  cpuset_checked))\n",
            "  0% 0/55 [00:00<?, ?it/s]/usr/local/lib/python3.7/dist-packages/torch/nn/functional.py:718: UserWarning: Named tensors and all their associated APIs are an experimental feature and subject to change. Please do not use them for anything important until they are released as stable. (Triggered internally at  /pytorch/c10/core/TensorImpl.h:1156.)\n",
            "  return torch.max_pool2d(input, kernel_size, stride, padding, dilation, ceil_mode)\n",
            "100% 55/55 [02:32<00:00,  2.77s/it]\n",
            "Average sizes: [256.00+/-0.00] x [256.00+/-0.00] = [0.07+/-0.00 Mpix]\n",
            "Num reals: 880, Num fakes: 880\n",
            "AP: 61.24, Acc: 50.17, Acc (real): 100.00, Acc (fake): 0.34\n"
          ]
        }
      ]
    },
    {
      "cell_type": "code",
      "metadata": {
        "colab": {
          "base_uri": "https://localhost:8080/"
        },
        "id": "0cThMmc0uJDq",
        "outputId": "d0008df4-54ed-4cce-e251-f14c5f0844d8"
      },
      "source": [
        "!python demo_dir.py -d '/content/drive/MyDrive/FYP_Dataset_Adversarial_Noise' -m weights/blur_jpg_prob0.1.pth"
      ],
      "execution_count": null,
      "outputs": [
        {
          "output_type": "stream",
          "name": "stdout",
          "text": [
            "Not cropping\n",
            "Loading [1] datasets\n",
            "/usr/local/lib/python3.7/dist-packages/torch/utils/data/dataloader.py:481: UserWarning: This DataLoader will create 4 worker processes in total. Our suggested max number of worker in current system is 2, which is smaller than what this DataLoader is going to create. Please be aware that excessive worker creation might get DataLoader running slow or even freeze, lower the worker number to avoid potential slowness/freeze if necessary.\n",
            "  cpuset_checked))\n",
            "\r  0% 0/55 [00:00<?, ?it/s]/usr/local/lib/python3.7/dist-packages/torch/nn/functional.py:718: UserWarning: Named tensors and all their associated APIs are an experimental feature and subject to change. Please do not use them for anything important until they are released as stable. (Triggered internally at  /pytorch/c10/core/TensorImpl.h:1156.)\n",
            "  return torch.max_pool2d(input, kernel_size, stride, padding, dilation, ceil_mode)\n",
            "100% 55/55 [00:17<00:00,  3.11it/s]\n",
            "Average sizes: [256.00+/-0.00] x [256.00+/-0.00] = [0.07+/-0.00 Mpix]\n",
            "Num reals: 880, Num fakes: 880\n",
            "AP: 59.18, Acc: 50.00, Acc (real): 100.00, Acc (fake): 0.00\n"
          ]
        }
      ]
    },
    {
      "cell_type": "code",
      "metadata": {
        "colab": {
          "base_uri": "https://localhost:8080/"
        },
        "id": "55MjOL2amrMc",
        "outputId": "a3ebe2d5-7768-4a32-a9a1-d5b131aeb3ee"
      },
      "source": [
        "!python demo_dir.py -d '/content/drive/MyDrive/FYP_Dataset_Adversarial_Denoised' -m weights/blur_jpg_prob0.5.pth"
      ],
      "execution_count": null,
      "outputs": [
        {
          "output_type": "stream",
          "name": "stdout",
          "text": [
            "Not cropping\n",
            "Loading [1] datasets\n",
            "/usr/local/lib/python3.7/dist-packages/torch/utils/data/dataloader.py:481: UserWarning: This DataLoader will create 4 worker processes in total. Our suggested max number of worker in current system is 2, which is smaller than what this DataLoader is going to create. Please be aware that excessive worker creation might get DataLoader running slow or even freeze, lower the worker number to avoid potential slowness/freeze if necessary.\n",
            "  cpuset_checked))\n",
            "\r  0% 0/55 [00:00<?, ?it/s]/usr/local/lib/python3.7/dist-packages/torch/nn/functional.py:718: UserWarning: Named tensors and all their associated APIs are an experimental feature and subject to change. Please do not use them for anything important until they are released as stable. (Triggered internally at  /pytorch/c10/core/TensorImpl.h:1156.)\n",
            "  return torch.max_pool2d(input, kernel_size, stride, padding, dilation, ceil_mode)\n",
            "100% 55/55 [02:34<00:00,  2.81s/it]\n",
            "Average sizes: [256.00+/-0.00] x [256.00+/-0.00] = [0.07+/-0.00 Mpix]\n",
            "Num reals: 880, Num fakes: 880\n",
            "AP: 70.09, Acc: 59.09, Acc (real): 92.39, Acc (fake): 25.80\n"
          ]
        }
      ]
    },
    {
      "cell_type": "code",
      "metadata": {
        "colab": {
          "base_uri": "https://localhost:8080/"
        },
        "id": "29D5085wm8ih",
        "outputId": "3092c181-81a8-4efb-ce88-34276f628f34"
      },
      "source": [
        "!python demo_dir.py -d '/content/drive/MyDrive/FYP_Dataset_Adversarial_Denoised' -m weights/blur_jpg_prob0.1.pth"
      ],
      "execution_count": null,
      "outputs": [
        {
          "output_type": "stream",
          "name": "stdout",
          "text": [
            "Not cropping\n",
            "Loading [1] datasets\n",
            "/usr/local/lib/python3.7/dist-packages/torch/utils/data/dataloader.py:481: UserWarning: This DataLoader will create 4 worker processes in total. Our suggested max number of worker in current system is 2, which is smaller than what this DataLoader is going to create. Please be aware that excessive worker creation might get DataLoader running slow or even freeze, lower the worker number to avoid potential slowness/freeze if necessary.\n",
            "  cpuset_checked))\n",
            "\r  0% 0/55 [00:00<?, ?it/s]/usr/local/lib/python3.7/dist-packages/torch/nn/functional.py:718: UserWarning: Named tensors and all their associated APIs are an experimental feature and subject to change. Please do not use them for anything important until they are released as stable. (Triggered internally at  /pytorch/c10/core/TensorImpl.h:1156.)\n",
            "  return torch.max_pool2d(input, kernel_size, stride, padding, dilation, ceil_mode)\n",
            "100% 55/55 [00:17<00:00,  3.12it/s]\n",
            "Average sizes: [256.00+/-0.00] x [256.00+/-0.00] = [0.07+/-0.00 Mpix]\n",
            "Num reals: 880, Num fakes: 880\n",
            "AP: 68.98, Acc: 69.60, Acc (real): 57.84, Acc (fake): 81.36\n"
          ]
        }
      ]
    },
    {
      "cell_type": "code",
      "metadata": {
        "colab": {
          "base_uri": "https://localhost:8080/"
        },
        "id": "GRYeyNzx8AnS",
        "outputId": "749a9357-e9d2-407f-829a-4dbeb70f75fa"
      },
      "source": [
        "!python demo_dir.py -d '/content/drive/MyDrive/FYP_Dataset_Adversarial_Blur' -m weights/blur_jpg_prob0.5.pth"
      ],
      "execution_count": null,
      "outputs": [
        {
          "output_type": "stream",
          "name": "stdout",
          "text": [
            "Not cropping\n",
            "Loading [1] datasets\n",
            "/usr/local/lib/python3.7/dist-packages/torch/utils/data/dataloader.py:481: UserWarning: This DataLoader will create 4 worker processes in total. Our suggested max number of worker in current system is 2, which is smaller than what this DataLoader is going to create. Please be aware that excessive worker creation might get DataLoader running slow or even freeze, lower the worker number to avoid potential slowness/freeze if necessary.\n",
            "  cpuset_checked))\n",
            "  0% 0/55 [00:00<?, ?it/s]/usr/local/lib/python3.7/dist-packages/torch/nn/functional.py:718: UserWarning: Named tensors and all their associated APIs are an experimental feature and subject to change. Please do not use them for anything important until they are released as stable. (Triggered internally at  /pytorch/c10/core/TensorImpl.h:1156.)\n",
            "  return torch.max_pool2d(input, kernel_size, stride, padding, dilation, ceil_mode)\n",
            "100% 55/55 [02:45<00:00,  3.01s/it]\n",
            "Average sizes: [256.00+/-0.00] x [256.00+/-0.00] = [0.07+/-0.00 Mpix]\n",
            "Num reals: 880, Num fakes: 880\n",
            "AP: 80.13, Acc: 54.09, Acc (real): 99.66, Acc (fake): 8.52\n"
          ]
        }
      ]
    },
    {
      "cell_type": "code",
      "metadata": {
        "colab": {
          "base_uri": "https://localhost:8080/"
        },
        "id": "u4C39VV18M6v",
        "outputId": "61a91445-79f7-44b6-ea7b-028d0649cb25"
      },
      "source": [
        "!python demo_dir.py -d '/content/drive/MyDrive/FYP_Dataset_Adversarial_Blur' -m weights/blur_jpg_prob0.1.pth"
      ],
      "execution_count": null,
      "outputs": [
        {
          "output_type": "stream",
          "name": "stdout",
          "text": [
            "Not cropping\n",
            "Loading [1] datasets\n",
            "/usr/local/lib/python3.7/dist-packages/torch/utils/data/dataloader.py:481: UserWarning: This DataLoader will create 4 worker processes in total. Our suggested max number of worker in current system is 2, which is smaller than what this DataLoader is going to create. Please be aware that excessive worker creation might get DataLoader running slow or even freeze, lower the worker number to avoid potential slowness/freeze if necessary.\n",
            "  cpuset_checked))\n",
            "\r  0% 0/55 [00:00<?, ?it/s]/usr/local/lib/python3.7/dist-packages/torch/nn/functional.py:718: UserWarning: Named tensors and all their associated APIs are an experimental feature and subject to change. Please do not use them for anything important until they are released as stable. (Triggered internally at  /pytorch/c10/core/TensorImpl.h:1156.)\n",
            "  return torch.max_pool2d(input, kernel_size, stride, padding, dilation, ceil_mode)\n",
            "100% 55/55 [00:16<00:00,  3.44it/s]\n",
            "Average sizes: [256.00+/-0.00] x [256.00+/-0.00] = [0.07+/-0.00 Mpix]\n",
            "Num reals: 880, Num fakes: 880\n",
            "AP: 80.04, Acc: 57.44, Acc (real): 98.41, Acc (fake): 16.48\n"
          ]
        }
      ]
    },
    {
      "cell_type": "code",
      "metadata": {
        "colab": {
          "base_uri": "https://localhost:8080/"
        },
        "id": "1khOh_U48PmU",
        "outputId": "2523affe-5522-4a01-e1cd-f26bdfa343a8"
      },
      "source": [
        "!python demo_dir.py -d '/content/drive/MyDrive/FYP_Dataset_Adversarial_Blur_Deblurred' -m weights/blur_jpg_prob0.5.pth"
      ],
      "execution_count": null,
      "outputs": [
        {
          "output_type": "stream",
          "name": "stdout",
          "text": [
            "Not cropping\n",
            "Loading [1] datasets\n",
            "/usr/local/lib/python3.7/dist-packages/torch/utils/data/dataloader.py:481: UserWarning: This DataLoader will create 4 worker processes in total. Our suggested max number of worker in current system is 2, which is smaller than what this DataLoader is going to create. Please be aware that excessive worker creation might get DataLoader running slow or even freeze, lower the worker number to avoid potential slowness/freeze if necessary.\n",
            "  cpuset_checked))\n",
            "  0% 0/56 [00:00<?, ?it/s]/usr/local/lib/python3.7/dist-packages/torch/nn/functional.py:718: UserWarning: Named tensors and all their associated APIs are an experimental feature and subject to change. Please do not use them for anything important until they are released as stable. (Triggered internally at  /pytorch/c10/core/TensorImpl.h:1156.)\n",
            "  return torch.max_pool2d(input, kernel_size, stride, padding, dilation, ceil_mode)\n",
            "100% 56/56 [02:46<00:00,  2.98s/it]\n",
            "Average sizes: [256.00+/-0.00] x [256.00+/-0.00] = [0.07+/-0.00 Mpix]\n",
            "Num reals: 880, Num fakes: 890\n",
            "AP: 77.24, Acc: 56.16, Acc (real): 98.41, Acc (fake): 14.38\n"
          ]
        }
      ]
    },
    {
      "cell_type": "code",
      "metadata": {
        "colab": {
          "base_uri": "https://localhost:8080/"
        },
        "id": "C2loeRQFKiw3",
        "outputId": "74cf739c-7fd7-423e-e684-7eeeac5bdacb"
      },
      "source": [
        "!python demo_dir.py -d '/content/drive/MyDrive/FYP_Dataset_Adversarial_Blur_Deblurred' -m weights/blur_jpg_prob0.1.pth"
      ],
      "execution_count": null,
      "outputs": [
        {
          "output_type": "stream",
          "name": "stdout",
          "text": [
            "Not cropping\n",
            "Loading [1] datasets\n",
            "/usr/local/lib/python3.7/dist-packages/torch/utils/data/dataloader.py:481: UserWarning: This DataLoader will create 4 worker processes in total. Our suggested max number of worker in current system is 2, which is smaller than what this DataLoader is going to create. Please be aware that excessive worker creation might get DataLoader running slow or even freeze, lower the worker number to avoid potential slowness/freeze if necessary.\n",
            "  cpuset_checked))\n",
            "\r  0% 0/56 [00:00<?, ?it/s]/usr/local/lib/python3.7/dist-packages/torch/nn/functional.py:718: UserWarning: Named tensors and all their associated APIs are an experimental feature and subject to change. Please do not use them for anything important until they are released as stable. (Triggered internally at  /pytorch/c10/core/TensorImpl.h:1156.)\n",
            "  return torch.max_pool2d(input, kernel_size, stride, padding, dilation, ceil_mode)\n",
            "100% 56/56 [00:17<00:00,  3.20it/s]\n",
            "Average sizes: [256.00+/-0.00] x [256.00+/-0.00] = [0.07+/-0.00 Mpix]\n",
            "Num reals: 880, Num fakes: 890\n",
            "AP: 76.73, Acc: 59.15, Acc (real): 95.91, Acc (fake): 22.81\n"
          ]
        }
      ]
    }
  ]
}